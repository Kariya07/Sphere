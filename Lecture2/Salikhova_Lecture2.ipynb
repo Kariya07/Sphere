{
 "cells": [
  {
   "cell_type": "code",
   "execution_count": 1,
   "metadata": {},
   "outputs": [
    {
     "data": {
      "text/plain": [
       "16"
      ]
     },
     "execution_count": 1,
     "metadata": {},
     "output_type": "execute_result"
    }
   ],
   "source": [
    "def ComputeMyTaskNumber(your_name):\n",
    "    return 1 + hash(your_name) % 21\n",
    "\n",
    "ComputeMyTaskNumber('Salikhova_Kariya')"
   ]
  },
  {
   "cell_type": "markdown",
   "metadata": {},
   "source": [
    "## Задача: Реализация алгоритма iGBRT с квадратичной фунцией потерь.\n",
    "http://proceedings.mlr.press/v14/mohan11a/mohan11a.pdf"
   ]
  },
  {
   "cell_type": "code",
   "execution_count": 2,
   "metadata": {},
   "outputs": [],
   "source": [
    "import numpy as np\n",
    "import matplotlib.pyplot as plt"
   ]
  },
  {
   "cell_type": "markdown",
   "metadata": {},
   "source": [
    "### Подготовка данных"
   ]
  },
  {
   "cell_type": "code",
   "execution_count": 3,
   "metadata": {},
   "outputs": [
    {
     "data": {
      "text/plain": [
       "245"
      ]
     },
     "execution_count": 3,
     "metadata": {},
     "output_type": "execute_result"
    }
   ],
   "source": [
    "max_idx = 0\n",
    "with open(\"reg.train.txt\") as f:\n",
    "    for line in f:\n",
    "        items = line.split()\n",
    "        items = items[1:]\n",
    "        for item in items:\n",
    "            idx, value = item.split(':')\n",
    "            if int(idx) > max_idx:\n",
    "                max_idx = int(idx)\n",
    "        \n",
    "with open(\"reg.test.txt\") as f:\n",
    "    for line in f:\n",
    "        items = line.split()\n",
    "        items = items[1:]\n",
    "        for item in items:\n",
    "            idx, value = item.split(':')\n",
    "            if int(idx) > max_idx:\n",
    "                max_idx = int(idx)\n",
    "max_idx"
   ]
  },
  {
   "cell_type": "code",
   "execution_count": 21,
   "metadata": {},
   "outputs": [],
   "source": [
    "y_train = []\n",
    "X_train = []\n",
    "with open(\"reg.train.txt\") as f:\n",
    "    for line in f:\n",
    "        features = np.array((max_idx+1) * [100], dtype=float)\n",
    "        items = line.split()\n",
    "        y_train.append(float(items[0]))\n",
    "        items = items[1:]\n",
    "        for item in items:\n",
    "            idx, value = item.split(':')\n",
    "            features[int(idx)] = float(value)\n",
    "        X_train.append(features)\n",
    "        \n",
    "y_test = []\n",
    "X_test = []\n",
    "with open(\"reg.test.txt\") as f:\n",
    "    for line in f:\n",
    "        features = np.array((max_idx+1) * [10], dtype=float)\n",
    "        items = line.split()\n",
    "        y_test.append(float(items[0]))\n",
    "        items = items[1:]\n",
    "        for item in items:\n",
    "            idx, value = item.split(':')\n",
    "            features[int(idx)] = float(value)\n",
    "        X_test.append(features)        "
   ]
  },
  {
   "cell_type": "code",
   "execution_count": 22,
   "metadata": {},
   "outputs": [],
   "source": [
    "y_train = np.array(y_train)\n",
    "y_test = np.array(y_test)\n",
    "X_train = np.array(X_train)\n",
    "X_test = np.array(X_test)"
   ]
  },
  {
   "cell_type": "markdown",
   "metadata": {},
   "source": [
    "### Реализация"
   ]
  },
  {
   "cell_type": "code",
   "execution_count": 23,
   "metadata": {},
   "outputs": [],
   "source": [
    "from sklearn.tree import DecisionTreeRegressor\n",
    "from sklearn.ensemble import RandomForestRegressor\n",
    "from sklearn.ensemble import GradientBoostingRegressor\n",
    "\n",
    "from time import time\n",
    "\n",
    "from sklearn.metrics import mean_squared_error\n",
    "from sklearn.metrics import mean_absolute_error"
   ]
  },
  {
   "cell_type": "code",
   "execution_count": 24,
   "metadata": {},
   "outputs": [],
   "source": [
    "class My_DecisionTree:\n",
    "    NON_LEAF_TYPE = 0\n",
    "    LEAF_TYPE = 1\n",
    "    \n",
    "    def __init__(self, max_depth=None, min_samples_split=2, min_samples_leaf=1):\n",
    "        self.tree = dict()\n",
    "        self.max_depth = max_depth\n",
    "        self.min_samples_split = min_samples_split\n",
    "        self.min_samples_leaf = min_samples_leaf\n",
    "        \n",
    "    def get_params(self, deep=True):\n",
    "        return {\n",
    "            \"max_depth\": self.max_depth,\n",
    "            \"min_samples_split\": self.min_samples_split,\n",
    "            \"min_samples_leaf\": self.min_samples_leaf\n",
    "        }      \n",
    "\n",
    "    def sort_samples(self, x, y):\n",
    "        sorted_idx = x.argsort(axis=0)\n",
    "        return np.sort(x, axis=0), y[sorted_idx]\n",
    "    \n",
    "    def div_samples(self, x, y, feature_id, threshold):\n",
    "        left_mask = x[:, feature_id] <= threshold\n",
    "        right_mask = ~left_mask\n",
    "        return x[left_mask], x[right_mask], y[left_mask], y[right_mask]\n",
    "\n",
    "    def fit_node(self, x, y, node_id, depth):\n",
    "        if (depth == self.max_depth) or (x.shape[0] < self.min_samples_split):\n",
    "            self.tree[node_id] = self.LEAF_TYPE, np.mean(y)\n",
    "            return\n",
    "        \n",
    "        sorted_x, sorted_y = self.sort_samples(x, y)\n",
    "        lengths = np.array(range(np.cumsum(sorted_y, axis=0).shape[0] + 1)[1:]).reshape(-1, 1)\n",
    "        loss1 = np.cumsum(sorted_y ** 2, axis=0) - (np.cumsum(sorted_y, axis=0) ** 2 / lengths)\n",
    "        lengths = lengths[::-1]\n",
    "        loss2 = np.cumsum(sorted_y[::-1] ** 2, axis=0)[::-1] - (np.cumsum(sorted_y[::-1], axis=0)[::-1] ** 2 / lengths)\n",
    "        loss1[:-1] += loss2[1:]\n",
    "        loss = loss1\n",
    "        \n",
    "        shifted_x = np.roll(sorted_x, axis=0, shift=-1)\n",
    "        loss[np.isclose(sorted_x, shifted_x, atol=1e-3)] = np.nan \n",
    "        try:\n",
    "            argmin = np.nanargmin(loss) #if loss - list of nans(all features are unimportant), raise ValueError\n",
    "        except ValueError:\n",
    "            self.tree[node_id] = (self.LEAF_TYPE, np.mean(y))\n",
    "            return\n",
    "        \n",
    "        best_sample_idx = argmin // loss.shape[1]\n",
    "        best_feature_idx = argmin - best_sample_idx*loss.shape[1]\n",
    "        threshold = sorted_x[best_sample_idx, best_feature_idx]\n",
    "        x_l, x_r, y_l, y_r = self.div_samples(x, y, best_feature_idx, threshold)\n",
    "        \n",
    "        if x_l.shape[0] < self.min_samples_leaf or x_l.shape[0] < self.min_samples_leaf:\n",
    "            self.tree[node_id] = (self.LEAF_TYPE, np.mean(y))\n",
    "        else:\n",
    "            self.tree[node_id] = (self.NON_LEAF_TYPE, best_feature_idx, threshold)\n",
    "            self.fit_node(x_l, y_l, 2*node_id + 1, depth + 1)\n",
    "            self.fit_node(x_r, y_r, 2*node_id + 2, depth + 1)\n",
    "\n",
    "    def fit(self, x, y):\n",
    "        self.features = np.arange(x.shape[1])\n",
    "        self.fit_node(x[:, self.features], y, 0, 0)\n",
    "        return self\n",
    "\n",
    "    def predict_node(self, x, node_id):\n",
    "        node = self.tree[node_id]\n",
    "        res = np.zeros(x.shape[0])\n",
    "        if node[0] == self.__class__.NON_LEAF_TYPE:\n",
    "            node_type, best_feature_idx, threshold = node\n",
    "            idx = np.where(x[:, best_feature_idx] <= threshold)\n",
    "            res[idx] = self.predict_node(x[idx], 2*node_id + 1)\n",
    "            idx = np.where(x[:, best_feature_idx] > threshold)\n",
    "            res[idx] = self.predict_node(x[idx], 2*node_id + 2)\n",
    "            return res\n",
    "        return np.array([node[1]]*x.shape[0])\n",
    "            \n",
    "    def predict(self, X):\n",
    "        x = X[:, self.features]\n",
    "        res = self.predict_node(X, 0)\n",
    "        return res"
   ]
  },
  {
   "cell_type": "code",
   "execution_count": 25,
   "metadata": {},
   "outputs": [],
   "source": [
    "my_clf = My_DecisionTree(max_depth=10)\n",
    "clf = DecisionTreeRegressor(max_depth=10)"
   ]
  },
  {
   "cell_type": "code",
   "execution_count": 26,
   "metadata": {},
   "outputs": [
    {
     "name": "stdout",
     "output_type": "stream",
     "text": [
      "My DecisionTree: MSE = 0.9550815177642769\n",
      "Sklearn DecisionTreeRegressor: MSE = 1.5671698498178244\n"
     ]
    }
   ],
   "source": [
    "my_clf.fit(X_train, y_train)\n",
    "clf.fit(X_train, y_train)\n",
    "my_pred = my_clf.predict(X_test)\n",
    "pred = clf.predict(X_test)\n",
    "print(\"My DecisionTree: MSE = {}\".format(mean_squared_error(y_test, my_pred)))\n",
    "print(\"Sklearn DecisionTreeRegressor: MSE = {}\".format(mean_squared_error(y_test, pred)))"
   ]
  },
  {
   "cell_type": "code",
   "execution_count": 27,
   "metadata": {},
   "outputs": [],
   "source": [
    "class My_RandomForest:\n",
    "    def __init__(self, n_estimators=20, max_depth=None, min_samples_split=2, min_samples_leaf = 1):\n",
    "        self.n_estimators = int(n_estimators)\n",
    "        self.max_depth = max_depth\n",
    "        self.min_samples_split = int(min_samples_split)\n",
    "        self.min_samples_leaf = min_samples_leaf\n",
    "        self.models = []\n",
    "        \n",
    "    def get_params(self, deep=True):\n",
    "        return {\n",
    "            \"n_estimators\": self.n_estimators,\n",
    "            \"max_depth\": self.max_depth,\n",
    "            \"min_samples_split\": self.min_samples_split,\n",
    "            \"min_samples_leaf\": self.min_samples_leaf\n",
    "        }  \n",
    "            \n",
    "    def fit(self, X, y):\n",
    "        for i in range(self.n_estimators):\n",
    "            tree = My_DecisionTree(min_samples_split=self.min_samples_split,\n",
    "                                      max_depth=self.max_depth, min_samples_leaf=self.min_samples_leaf)\n",
    "            idx = np.random.randint(0, X.shape[0], X.shape[0]) # 1 x X.shape[0]\n",
    "            tree.fit(X[idx], y[idx])\n",
    "            self.models.append(tree)\n",
    "        return self\n",
    "\n",
    "    def predict(self, X):\n",
    "        res = np.zeros(X.shape[0])\n",
    "        for i in range(self.n_estimators):\n",
    "            res += self.models[i].predict(X)\n",
    "        return res/self.n_estimators"
   ]
  },
  {
   "cell_type": "code",
   "execution_count": 28,
   "metadata": {},
   "outputs": [],
   "source": [
    "my_clf = My_RandomForest(max_depth=10)\n",
    "clf = RandomForestRegressor(max_depth=10)"
   ]
  },
  {
   "cell_type": "code",
   "execution_count": 29,
   "metadata": {},
   "outputs": [
    {
     "name": "stderr",
     "output_type": "stream",
     "text": [
      "C:\\ProgramData\\Anaconda3\\lib\\site-packages\\numpy\\core\\fromnumeric.py:3334: RuntimeWarning: Mean of empty slice.\n",
      "  return _methods._mean(a, axis=axis, dtype=dtype,\n",
      "C:\\ProgramData\\Anaconda3\\lib\\site-packages\\numpy\\core\\_methods.py:161: RuntimeWarning: invalid value encountered in double_scalars\n",
      "  ret = ret.dtype.type(ret / rcount)\n"
     ]
    },
    {
     "name": "stdout",
     "output_type": "stream",
     "text": [
      "My RandomForest: MSE = 0.7805622933038515\n",
      "Sklearn RandomForestRegressor: MSE = 0.9044175374616276\n"
     ]
    }
   ],
   "source": [
    "my_clf.fit(X_train, y_train)\n",
    "clf.fit(X_train, y_train)\n",
    "my_pred = my_clf.predict(X_test)\n",
    "pred = clf.predict(X_test)\n",
    "print(\"My RandomForest: MSE = {}\".format(mean_squared_error(y_test, my_pred)))\n",
    "print(\"Sklearn RandomForestRegressor: MSE = {}\".format(mean_squared_error(y_test, pred)))"
   ]
  },
  {
   "cell_type": "code",
   "execution_count": 30,
   "metadata": {},
   "outputs": [],
   "source": [
    "class iGBRT:\n",
    "    def __init__(self, learning_rate=0.1, n_estimators=20, n_estimators_for_rf=20,\n",
    "                 min_samples_split=2, max_depth=3, max_features=None):\n",
    "        self.learning_rate = learning_rate\n",
    "        self.n_estimators = n_estimators\n",
    "        self.n_estimators_for_rf = n_estimators_for_rf\n",
    "        self.min_samples_split = min_samples_split\n",
    "        self.max_depth = max_depth\n",
    "        self.max_features = max_features\n",
    "        self.models = []\n",
    "        self.k = []\n",
    "        \n",
    "    def get_params(self, deep=True):\n",
    "        return {\n",
    "            \"learning_rate\": self.learning_rate,\n",
    "            \"n_estimators\": self.n_estimators,\n",
    "            \"n_estimators_for_rf\": n_estimators_for_rf,\n",
    "            \"min_samples_split\": self.min_samples_split,\n",
    "            \"max_depth\": self.max_depth,\n",
    "            \"max_features\": self.max_features\n",
    "        }\n",
    "    \n",
    "    def best_ro(self, ro_type, y, pred, y_pred=None):\n",
    "        if ro_type == 0:\n",
    "            ro_list = np.arange(0, 3, 0.001)\n",
    "            min_L = 1000\n",
    "            best_ro = 0\n",
    "            for i in range(len(ro_list)):\n",
    "                ro = ro_list[i]\n",
    "                L = np.mean((y - ro*pred)**2)\n",
    "                if L < min_L:\n",
    "                    min_L = L\n",
    "                    best_ro = ro\n",
    "        else:\n",
    "            ro_list = np.arange(-3, 3, 0.001)\n",
    "            min_L = 1000\n",
    "            best_ro = -3\n",
    "            for i in range(len(ro_list)):\n",
    "                ro = ro_list[i]\n",
    "                L = np.mean((y - (y_pred+ro*pred))**2)\n",
    "                if L < min_L:\n",
    "                    min_L = L\n",
    "                    best_ro = ro\n",
    "        return best_ro\n",
    "    \n",
    "    def fit(self, X, y):\n",
    "        model_0 = My_RandomForest(n_estimators=self.n_estimators_for_rf, max_depth=self.max_depth,\n",
    "                                               min_samples_split=self.min_samples_split)\n",
    "        model_0.fit(X, y)\n",
    "        pred_0 = model_0.predict(X)\n",
    "        ro_0 = self.best_ro(0, y, pred_0)\n",
    "        y_pred = ro_0*pred_0\n",
    "        self.models.append(model_0)\n",
    "        self.k.append(ro_0)\n",
    "        for t in range(self.n_estimators)[1:]:\n",
    "            r = y - y_pred #L = (y-f)^2, dL = 2*(y-f)\n",
    "            model_t = My_DecisionTree(max_depth=self.max_depth,\n",
    "                                      min_samples_split=self.min_samples_split)\n",
    "            model_t.fit(X, r)\n",
    "            pred_t = model_t.predict(X)\n",
    "            ro_t = self.best_ro(1, y, pred_t, y_pred)\n",
    "            y_pred += self.learning_rate * ro_t*pred_t\n",
    "            self.models.append(model_t)\n",
    "            self.k.append(self.learning_rate * ro_t)\n",
    "    \n",
    "    def predict(self, X):\n",
    "        res = np.zeros(len(X))\n",
    "        res_list = []\n",
    "        for i, model in enumerate(self.models):\n",
    "            model_res = self.k[i] * model.predict(X)\n",
    "            res += model_res\n",
    "        return res\n",
    "    \n",
    "    def staged_predict(self, X):\n",
    "        res = np.zeros(len(X))\n",
    "        for i, model in enumerate(self.models):\n",
    "            res += self.k[i] * model.predict(X)\n",
    "            yield res"
   ]
  },
  {
   "cell_type": "markdown",
   "metadata": {},
   "source": [
    "### Результаты"
   ]
  },
  {
   "cell_type": "code",
   "execution_count": 31,
   "metadata": {},
   "outputs": [],
   "source": [
    "T = 100\n",
    "my_clf = iGBRT(n_estimators=T)\n",
    "clf = GradientBoostingRegressor(n_estimators=T, criterion='mse')"
   ]
  },
  {
   "cell_type": "code",
   "execution_count": 32,
   "metadata": {},
   "outputs": [
    {
     "name": "stdout",
     "output_type": "stream",
     "text": [
      "Wall time: 2min 7s\n"
     ]
    }
   ],
   "source": [
    "%time my_clf.fit(X_train, y_train)"
   ]
  },
  {
   "cell_type": "code",
   "execution_count": 33,
   "metadata": {},
   "outputs": [
    {
     "name": "stdout",
     "output_type": "stream",
     "text": [
      "Wall time: 15.9 s\n"
     ]
    },
    {
     "data": {
      "text/plain": [
       "GradientBoostingRegressor(criterion='mse')"
      ]
     },
     "execution_count": 33,
     "metadata": {},
     "output_type": "execute_result"
    }
   ],
   "source": [
    "%time clf.fit(X_train, y_train)"
   ]
  },
  {
   "cell_type": "code",
   "execution_count": 34,
   "metadata": {},
   "outputs": [
    {
     "name": "stdout",
     "output_type": "stream",
     "text": [
      "Train iGBRT: MSE = 0.4635013188335844\n",
      "Train Sklearn GBR: MSE = 0.4605115975890065\n"
     ]
    }
   ],
   "source": [
    "my_pred_train = my_clf.predict(X_train)\n",
    "pred_train = clf.predict(X_train)\n",
    "print('Train iGBRT: MSE = {}'.format(mean_squared_error(y_train, my_pred_train)))\n",
    "print('Train Sklearn GBR: MSE = {}'.format(mean_squared_error(y_train, pred_train)))\n",
    "my_train_loss = []\n",
    "train_loss = []\n",
    "for my_res in my_clf.staged_predict(X_train):\n",
    "    my_train_loss.append(mean_squared_error(y_train, my_res))\n",
    "for res in clf.staged_predict(X_train):\n",
    "    train_loss.append(mean_squared_error(y_train, res))"
   ]
  },
  {
   "cell_type": "code",
   "execution_count": 35,
   "metadata": {},
   "outputs": [
    {
     "data": {
      "image/png": "[encoded data removed]",
      "text/plain": [
       "<Figure size 720x432 with 1 Axes>"
      ]
     },
     "metadata": {
      "needs_background": "light"
     },
     "output_type": "display_data"
    }
   ],
   "source": [
    "plt.figure(figsize=(10, 6))\n",
    "plt.title('Train')\n",
    "plt.plot(range(T), my_train_loss, label='iGBRT')\n",
    "plt.plot(range(T), train_loss, label='Sklearn GBR')\n",
    "plt.plot(range(T), np.array([1.03]*len(train_loss))*train_loss, label='Sklearn + 3%')\n",
    "plt.legend()\n",
    "plt.xlabel('iteration')\n",
    "plt.ylabel('loss')\n",
    "plt.show()"
   ]
  },
  {
   "cell_type": "code",
   "execution_count": 36,
   "metadata": {},
   "outputs": [
    {
     "name": "stdout",
     "output_type": "stream",
     "text": [
      "Test iGBRT: MSE = 0.784334601118655\n",
      "Test Sklearn GBR: MSE = 0.9863779628199\n"
     ]
    }
   ],
   "source": [
    "my_pred_test = my_clf.predict(X_test)\n",
    "pred_test = clf.predict(X_test)\n",
    "print('Test iGBRT: MSE = {}'.format(mean_squared_error(y_test, my_pred_test)))\n",
    "print('Test Sklearn GBR: MSE = {}'.format(mean_squared_error(y_test, pred_test)))\n",
    "my_test_loss = []\n",
    "test_loss = []\n",
    "for my_res in my_clf.staged_predict(X_test):\n",
    "    my_test_loss.append(mean_squared_error(y_test, my_res))\n",
    "for res in clf.staged_predict(X_test):\n",
    "    test_loss.append(mean_squared_error(y_test, res))"
   ]
  },
  {
   "cell_type": "code",
   "execution_count": 37,
   "metadata": {},
   "outputs": [
    {
     "data": {
      "image/png": "[encoded data removed]",
      "text/plain": [
       "<Figure size 720x432 with 1 Axes>"
      ]
     },
     "metadata": {
      "needs_background": "light"
     },
     "output_type": "display_data"
    }
   ],
   "source": [
    "plt.figure(figsize=(10, 6))\n",
    "plt.title('Test')\n",
    "plt.plot(range(T), my_test_loss, label='iGBRT')\n",
    "plt.plot(range(T), test_loss, label='Sklearn GBR')\n",
    "plt.plot(range(T), np.array([1.03]*len(test_loss))*test_loss, label='Sklearn + 3%')\n",
    "plt.legend()\n",
    "plt.xlabel('iteration')\n",
    "plt.ylabel('loss')\n",
    "plt.show()"
   ]
  },
  {
   "cell_type": "markdown",
   "metadata": {},
   "source": [
    "#### Наблюдение:\n",
    "Заметила, что результаты сильно зависят от данных (если рассматривать только данный датасет, то результаты зависят от числа, которым заполняю пропуски в фичах). Наверное, это характеризует эту реализацию модели с плохой стороны, как не универсальную. С другой стороны, модель Sklearn тоже на некоторых данных ведет себя довольно странно."
   ]
  }
 ],
 "metadata": {
  "kernelspec": {
   "display_name": "Python 3",
   "language": "python",
   "name": "python3"
  },
  "language_info": {
   "codemirror_mode": {
    "name": "ipython",
    "version": 3
   },
   "file_extension": ".py",
   "mimetype": "text/x-python",
   "name": "python",
   "nbconvert_exporter": "python",
   "pygments_lexer": "ipython3",
   "version": "3.8.3"
  }
 },
 "nbformat": 4,
 "nbformat_minor": 4
}
