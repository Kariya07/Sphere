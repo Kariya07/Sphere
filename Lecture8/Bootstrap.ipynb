{
 "cells": [
  {
   "cell_type": "code",
   "execution_count": 1,
   "metadata": {},
   "outputs": [],
   "source": [
    "import numpy as np\n",
    "import pandas as pd\n",
    "import matplotlib.pyplot as plt\n",
    "from scipy import stats\n",
    "from tqdm import tqdm\n",
    "\n",
    "__author__ = 'salikhovakariya'"
   ]
  },
  {
   "cell_type": "code",
   "execution_count": 2,
   "metadata": {},
   "outputs": [],
   "source": [
    "values = []\n",
    "with open(\"c1.txt\") as f:\n",
    "    for line in f:\n",
    "        items = line.split()\n",
    "        values.append(items)\n",
    "c1 = np.array(values, dtype=int)\n",
    "\n",
    "values = []\n",
    "with open(\"c2.txt\") as f:\n",
    "    for line in f:\n",
    "        items = line.split()\n",
    "        values.append(items)\n",
    "c2 = np.array(values, dtype=int)"
   ]
  },
  {
   "cell_type": "code",
   "execution_count": 3,
   "metadata": {},
   "outputs": [
    {
     "data": {
      "text/plain": [
       "(1000000, 10)"
      ]
     },
     "execution_count": 3,
     "metadata": {},
     "output_type": "execute_result"
    }
   ],
   "source": [
    "c1.shape"
   ]
  },
  {
   "cell_type": "markdown",
   "metadata": {},
   "source": [
    "### CTR "
   ]
  },
  {
   "cell_type": "code",
   "execution_count": 4,
   "metadata": {},
   "outputs": [],
   "source": [
    "def calc_t_CTR(data1, data2):\n",
    "    n = data1.shape[0] # = data2.shape[0]\n",
    "    k = 1000\n",
    "    values1 = []\n",
    "    values2 = []\n",
    "    for i in range(n // k):\n",
    "        sample1 = data1[k*i:k*(i+1), :]\n",
    "        values1.append(np.sum(np.any(sample1, axis=1))/k)\n",
    "        \n",
    "        sample2 = data2[k*i:k*(i+1), :]\n",
    "        values2.append(np.sum(np.any(sample2, axis=1))/k)\n",
    "    #std = np.sqrt((np.var(values1))/len(values1) + (np.var(values2))/len(values2))\n",
    "    #t = (np.mean(values2) - np.mean(values1)) / std\n",
    "    return stats.ttest_ind(values2, values1) "
   ]
  },
  {
   "cell_type": "code",
   "execution_count": 5,
   "metadata": {},
   "outputs": [],
   "source": [
    "def get_bootstrap_samples(data, n_samples):\n",
    "    indices = np.random.randint(0, data.shape[0], n_samples)\n",
    "    samples = data[indices, :]\n",
    "    return samples"
   ]
  },
  {
   "cell_type": "code",
   "execution_count": 6,
   "metadata": {},
   "outputs": [],
   "source": [
    "N = 1000\n",
    "n1 = c1.shape[0]\n",
    "n2 = c2.shape[0]\n",
    "t0 = 1.96\n",
    "calc_CTR = 0\n",
    "t_list_CTR = []\n",
    "for i in range(N):\n",
    "    sample1 = get_bootstrap_samples(c1, n1)\n",
    "    sample2 = get_bootstrap_samples(c2, n2)\n",
    "    t = calc_t_CTR(sample1, sample2)\n",
    "    t_list_CTR.append(t[0])\n",
    "    if t[0] > t0 or t[0] < t0:\n",
    "        calc_CTR += 1\n",
    "asl_CTR = calc_CTR / N"
   ]
  },
  {
   "cell_type": "code",
   "execution_count": 7,
   "metadata": {},
   "outputs": [
    {
     "data": {
      "text/plain": [
       "1.0"
      ]
     },
     "execution_count": 7,
     "metadata": {},
     "output_type": "execute_result"
    }
   ],
   "source": [
    "asl_CTR"
   ]
  },
  {
   "cell_type": "code",
   "execution_count": 16,
   "metadata": {},
   "outputs": [
    {
     "data": {
      "image/png": "[encoded data removed]",
      "text/plain": [
       "<Figure size 432x288 with 1 Axes>"
      ]
     },
     "metadata": {
      "needs_background": "light"
     },
     "output_type": "display_data"
    }
   ],
   "source": [
    "plt.hist(t_list_CTR, bins=25)\n",
    "plt.title('T-статистика для CTR')\n",
    "plt.show()"
   ]
  },
  {
   "cell_type": "markdown",
   "metadata": {},
   "source": [
    "### Mean Reciprocal Rank"
   ]
  },
  {
   "cell_type": "code",
   "execution_count": 9,
   "metadata": {},
   "outputs": [],
   "source": [
    "def calc_t_MRR(data1, data2):\n",
    "    n = data1.shape[0] # = data2.shape[0]\n",
    "    k = 1000\n",
    "    values1 = []\n",
    "    values2 = []\n",
    "    for i in range(n // k):\n",
    "        sample1 = data1[k*i:k*(i+1), :]\n",
    "        sample2 = data2[k*i:k*(i+1), :]\n",
    "        pos_list1 = np.sum(1*(np.cumsum(sample1, axis=1)==0), axis=1)\n",
    "        sum1 = np.sum([1/(x+1) if x < 10 else 0 for x in pos_list1])\n",
    "        pos_list2 = np.sum(1*(np.cumsum(sample2, axis=1)==0), axis=1)\n",
    "        sum2 = np.sum([1/(x+1) if x < 10 else 0 for x in pos_list2])\n",
    "        values1.append(sum1/k)     \n",
    "        values2.append(sum2/k)\n",
    "    return stats.ttest_ind(values2, values1) "
   ]
  },
  {
   "cell_type": "code",
   "execution_count": 11,
   "metadata": {},
   "outputs": [
    {
     "name": "stderr",
     "output_type": "stream",
     "text": [
      "100%|██████████████████████████████████████████████████████████████████████████████| 1000/1000 [33:08<00:00,  1.99s/it]\n"
     ]
    }
   ],
   "source": [
    "N = 1000\n",
    "n1 = c1.shape[0]\n",
    "n2 = c2.shape[0]\n",
    "t0 = 1.96\n",
    "calc_MRR = 0\n",
    "t_list_MRR = []\n",
    "for i in tqdm(range(N)):\n",
    "    sample1 = get_bootstrap_samples(c1, n1)\n",
    "    sample2 = get_bootstrap_samples(c2, n2)\n",
    "    t = calc_t_MRR(sample1, sample2)\n",
    "    t_list_MRR.append(t[0])\n",
    "    if t[0] > t0 or t[0] < t0:\n",
    "        calc_MRR += 1\n",
    "asl_MRR = calc_MRR/N"
   ]
  },
  {
   "cell_type": "code",
   "execution_count": 12,
   "metadata": {},
   "outputs": [
    {
     "data": {
      "text/plain": [
       "1.0"
      ]
     },
     "execution_count": 12,
     "metadata": {},
     "output_type": "execute_result"
    }
   ],
   "source": [
    "asl_MRR"
   ]
  },
  {
   "cell_type": "code",
   "execution_count": 14,
   "metadata": {},
   "outputs": [
    {
     "data": {
      "image/png": "[encoded data removed]",
      "text/plain": [
       "<Figure size 432x288 with 1 Axes>"
      ]
     },
     "metadata": {
      "needs_background": "light"
     },
     "output_type": "display_data"
    }
   ],
   "source": [
    "plt.hist(t_list_MRR, bins=20)\n",
    "plt.title('T-статистика для Mean Reciprocal Rank')\n",
    "plt.show()"
   ]
  },
  {
   "cell_type": "markdown",
   "metadata": {},
   "source": [
    "### Вывод:\n",
    "Как можно увидеть по гистограммам, значения t-статистик для обеих метрик получились отрицательными, причем t < -1.96 для всех t. И, если я правильно уловила суть, это значит, что ___первый сплит лучше___ (так как статистика рассчитывалась по формуле t = (np.mean(values2) - np.mean(values1)) / std)"
   ]
  }
 ],
 "metadata": {
  "kernelspec": {
   "display_name": "Python 3",
   "language": "python",
   "name": "python3"
  },
  "language_info": {
   "codemirror_mode": {
    "name": "ipython",
    "version": 3
   },
   "file_extension": ".py",
   "mimetype": "text/x-python",
   "name": "python",
   "nbconvert_exporter": "python",
   "pygments_lexer": "ipython3",
   "version": "3.8.3"
  }
 },
 "nbformat": 4,
 "nbformat_minor": 4
}
